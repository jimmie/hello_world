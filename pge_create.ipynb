{
 "cells": [
  {
   "cell_type": "markdown",
   "metadata": {},
   "source": [
    "# PGE Creation\n",
    "This notebook is the driver by which the *test_notebook* will be processed in order to be available as an SDS PGE. The notebook *test_submit_job* is then used to submit it to the SDS for execution.\n"
   ]
  },
  {
   "cell_type": "markdown",
   "metadata": {},
   "source": [
    "### 1. Set-up\n",
    "#### To start, we; enter the directory containing the notebook to be executed (this step assumes the repository has already been cloned locally), ensure that we are in the proper branch, then execute notebook-pge-wrapper to generate the files necessary to build and run the *papermill*'ed notebook as a PGE.\n",
    "\n",
    "#### Make note of the branch being used (e.g. *main* in this example), it will become part of the job specification name and used when submitting the job in the next notebook."
   ]
  },
  {
   "cell_type": "code",
   "execution_count": 8,
   "metadata": {},
   "outputs": [
    {
     "name": "stderr",
     "output_type": "stream",
     "text": [
      "Already on 'test_20230209'\n"
     ]
    },
    {
     "name": "stdout",
     "output_type": "stream",
     "text": [
      "M\tdocker/Dockerfile\n",
      "M\tpge_create.ipynb\n",
      "M\tsubmit_job.ipynb\n",
      "Your branch is up to date with 'origin/test_20230209'.\n"
     ]
    },
    {
     "name": "stderr",
     "output_type": "stream",
     "text": [
      "2023-02-17 00:48:42 [INFO] Input Notebook:  notebook_pges/test_sample_pge.ipynb\n",
      "2023-02-17 00:48:42 [INFO] Input Notebook:  notebook_pges/test_sample_pge.ipynb\n",
      "2023-02-17 00:48:42 [INFO] Input Notebook:  notebook_pges/test_sample_pge.ipynb\n"
     ]
    },
    {
     "name": "stdout",
     "output_type": "stream",
     "text": [
      "inspecting notebook: test_sample_pge.ipynb\n",
      "generated docker/hysds-io.json.test_sample_pge\n",
      "generated docker/job-spec.json.test_sample_pge\n"
     ]
    }
   ],
   "source": [
    "%%bash\n",
    "cd ~/hello_world\n",
    "git checkout test_20230209\n",
    "notebook-pge-wrapper specs all"
   ]
  },
  {
   "cell_type": "markdown",
   "metadata": {},
   "source": [
    "### Manual edits.\n",
    "\n",
    "#### Edit docker/job-spec.json.sample_pge\n",
    "A manual edit to the job-spec file is necessary. In the line:\n",
    "\n",
    ">`    \"command\": \"notebook-pge-wrapper execute /home/ops/hello_world/notebook_pges/sample_pge.ipynb\",`\n",
    " \n",
    "Change *'ops'* to *'jovyan'*:\n",
    "\n",
    ">`    \"command\": \"notebook-pge-wrapper execute /home/jovyan/hello_world/notebook_pges/sample_pge.ipynb\",`\n",
    " \n",
    "#### Update the docker/Dockerfile\n",
    "The contents of the Dockerfile should be as follows:\n",
    "\n",
    "```\n",
    "FROM cae-artifactory.jpl.nasa.gov:16001/gov/nasa/jpl/nisar/sds/pcm/nisar_ade:r1.3\n",
    "\n",
    "ENV HOME=/home/jovyan \\\n",
    "    CONDA_DIR=/opt/conda\n",
    "\n",
    "USER root\n",
    "RUN $CONDA_DIR/bin/conda install -y nb_conda_kernels\n",
    "RUN $CONDA_DIR/bin/pip install 'ipykernel<5.0.0'\n",
    "\n",
    "RUN cd $HOME \\\n",
    "    && git clone https://github.com/hysds/notebook_pge_wrapper.git \\\n",
    "    && cd notebook_pge_wrapper \\\n",
    "    && $CONDA_DIR/bin/pip install -e .\n",
    "\n",
    "USER jovyan\n",
    "\n",
    "# copy your repo into the docker container\n",
    "################################################\n",
    "COPY . $HOME/hello_world\n",
    "################################################\n",
    "\n",
    "WORKDIR $HOME\n",
    "\n",
    "CMD [\"/bin/bash\", \"--login\"]\n",
    "```"
   ]
  },
  {
   "cell_type": "markdown",
   "metadata": {},
   "source": [
    "### 2. Commit changes\n",
    "#### The build process retrieves source code for the PGE from the GitHub repository, so it is necessary to commit and push all changes before building/rebuilding the PGE.\n",
    "#### If `git push` fails here, push the local repository to the remote manually (using JupyterLab or the Git CLI)"
   ]
  },
  {
   "cell_type": "code",
   "execution_count": null,
   "metadata": {},
   "outputs": [],
   "source": [
    "%%bash\n",
    "cd ~/hello_world\n",
    "git add -A\n",
    "git commit -m\"Results of notebook-pge-wrapper spec generation.\"\n",
    "git push"
   ]
  },
  {
   "cell_type": "markdown",
   "metadata": {},
   "source": [
    "### 3. Initialize the API client which will be used\n",
    "\n",
    "When prompted for the HySDS host, include the protocol, e.g. https://my-mozart.jpl.nasa.gov\n",
    "When prompted for \"HySDS cluster authenticated\", enter 'y' if the cluster requires a password to access."
   ]
  },
  {
   "cell_type": "code",
   "execution_count": 1,
   "metadata": {},
   "outputs": [],
   "source": [
    "import os\n",
    "from pathlib import Path\n",
    "import otello\n",
    "if not os.path.exists(f\"{Path.home()}/.config/otello/config.yml\"):\n",
    "    otello.client.initialize()"
   ]
  },
  {
   "cell_type": "markdown",
   "metadata": {},
   "source": [
    "### 4. Specify the repository and branch to the api\n",
    "#### This creates a handle to the Jenkins build process for your repository/PGE.\n",
    "#### *Set \"account\" and \"repository_name\" to the correct value for the remote repository you created for this PGE.*"
   ]
  },
  {
   "cell_type": "code",
   "execution_count": 2,
   "metadata": {},
   "outputs": [],
   "source": [
    "account = \"jimmie\"\n",
    "repository_name = \"hello_world\"\n",
    "repository_url = f\"https://github.com/{account}/{repository_name}.git\"\n",
    "branch = \"test_20230209\"\n",
    "\n",
    "ci = otello.CI(repo=repository_url, branch=branch)"
   ]
  },
  {
   "cell_type": "markdown",
   "metadata": {},
   "source": [
    "### 5. Registering the repository/job-type with the build pipeline\n",
    "#### The job-type/PGE must be registered with the build process before it can be built.\n",
    "#### Existing registrations for the job-type/PGE are removed first, to ensure that the cached versions on active worker nodes are invalidated and replaced."
   ]
  },
  {
   "cell_type": "code",
   "execution_count": 3,
   "metadata": {},
   "outputs": [
    {
     "name": "stdout",
     "output_type": "stream",
     "text": [
      "Job exists, unregistering\n",
      "endpoint : https://100.104.10.127/mozart/api/ci/register, data : {'repo': 'https://github.com/jimmie/hello_world.git', 'branch': 'test_20230209'}\n",
      "<Response [200]>\n",
      "[2023-02-16 16:30:09,201: DEBUG/sdscli/ci] sds_type: hysds\n",
      "[2023-02-16 16:30:09,202: DEBUG/sdscli/__init__] file: /export/home/hysdsops/.sds/config\n",
      "[2023-02-16 16:30:09,385: DEBUG/sdscli/get_func] mod: <module 'sdscli.adapters.hysds.ci' from '/export/home/hysdsops/mozart/ops/sdscli-1.1.6/sdscli/adapters/hysds/ci.py'>\n",
      "[2023-02-16 16:30:09,385: DEBUG/sdscli/get_func] func_name: add_job\n",
      "[2023-02-16 16:30:09,385: DEBUG/sdscli/ci] func: <function add_job at 0x7f5117611ee0>\n",
      "[2023-02-16 16:30:09,385: DEBUG/sdscli/__init__] file: /export/home/hysdsops/.sds/config\n",
      "[100.104.10.141] Executing task 'add_ci_job'\n",
      "[100.104.10.141] run: mkdir -p /var/lib/jenkins/jobs/nisar-adt-ondemand-11_container-builder_jimmie_hello_world_test_20230209\n",
      "[100.104.10.141] run: chmod -R 777 /var/lib/jenkins/jobs/nisar-adt-ondemand-11_container-builder_jimmie_hello_world_test_20230209\n",
      "[100.104.10.141] put: <file obj> -> tmp-jenkins-upload\n",
      "[100.104.10.141] run: cp -rp tmp-jenkins-upload /var/lib/jenkins/jobs/nisar-adt-ondemand-11_container-builder_jimmie_hello_world_test_20230209/config.xml\n",
      "[100.104.10.141] run: rm tmp-jenkins-upload\n",
      "[100.104.10.141] Executing task 'reload_configuration'\n",
      "[100.104.10.141] run: java -jar /var/lib/jenkins/war/WEB-INF/jenkins-cli.jar -s http://localhost:8080 -http -auth jdyoung:110473865ddbff91cd3db65a4204f1ba0d reload-configuration\n",
      "\n"
     ]
    }
   ],
   "source": [
    "try:\n",
    "    if ci.check_job_exists():\n",
    "        print(\"Job exists, unregistering\")\n",
    "        ci.unregister()\n",
    "except Exception as e:\n",
    "    print(\"Exception : {}, trying to register anyway\".format(e))\n",
    "\n",
    "ci.register()"
   ]
  },
  {
   "cell_type": "markdown",
   "metadata": {},
   "source": [
    "### 6. Build the PGE"
   ]
  },
  {
   "cell_type": "code",
   "execution_count": 5,
   "metadata": {},
   "outputs": [
    {
     "data": {
      "text/plain": [
       "{'success': True,\n",
       " 'message': 'job successfully submitted to build nisar-adt-ondemand-11_container-builder_jimmie_hello_world_test_20230209 (2)',\n",
       " 'queue': 7618,\n",
       " 'build_number': 2}"
      ]
     },
     "execution_count": 5,
     "metadata": {},
     "output_type": "execute_result"
    }
   ],
   "source": [
    "ci.submit_build()"
   ]
  },
  {
   "cell_type": "markdown",
   "metadata": {},
   "source": [
    "### 7. Wait for the build to resolve, then check whether the build was successful or not"
   ]
  },
  {
   "cell_type": "code",
   "execution_count": 7,
   "metadata": {
    "pycharm": {
     "name": "#%%\n"
    }
   },
   "outputs": [
    {
     "name": "stdout",
     "output_type": "stream",
     "text": [
      "Build in progress....................\n",
      "Build completed successfully\n"
     ]
    }
   ],
   "source": [
    "import time\n",
    "move_on = False\n",
    "while not move_on:\n",
    "    try:\n",
    "        ci.get_build_status()\n",
    "        move_on = True\n",
    "    except Exception as e:\n",
    "        print(\"Waiting for build to start\")\n",
    "        time.sleep(10)\n",
    "    \n",
    "build_stat = ci.get_build_status()\n",
    "print(\"Build in progress.\", end=\"\")\n",
    "\n",
    "while (build_stat['building']):\n",
    "    time.sleep(10)\n",
    "    print(\".\", end=\"\", flush=True)\n",
    "    build_stat = ci.get_build_status()\n",
    "\n",
    "if (build_stat['result'] == 'FAILURE'):\n",
    "    print(\"\\nBuild failed.\")\n",
    "else:\n",
    "    print(\"\\nBuild completed successfully\")\n",
    "\n",
    "\n"
   ]
  },
  {
   "cell_type": "code",
   "execution_count": null,
   "metadata": {},
   "outputs": [],
   "source": []
  }
 ],
 "metadata": {
  "kernelspec": {
   "display_name": "isce",
   "language": "python",
   "name": "isce"
  },
  "language_info": {
   "codemirror_mode": {
    "name": "ipython",
    "version": 3
   },
   "file_extension": ".py",
   "mimetype": "text/x-python",
   "name": "python",
   "nbconvert_exporter": "python",
   "pygments_lexer": "ipython3",
   "version": "3.9.0"
  }
 },
 "nbformat": 4,
 "nbformat_minor": 4
}
