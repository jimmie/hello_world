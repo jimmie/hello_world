{
 "cells": [
  {
   "cell_type": "code",
   "execution_count": 1,
   "metadata": {
    "tags": [
     "parameters"
    ]
   },
   "outputs": [],
   "source": [
    "# parameters\n",
    "name: str = \"jimmie\"\n",
    "start_orbit_number: str = \"5020A\"\n",
    "end_orbit_number: str = \"5028D\"\n",
    "periapsis: float = 3668.75\n",
    "apoapsis: float = 18699.23\n",
    "\n",
    "hysds_time_limit = 600\n",
    "hysds_soft_time_limit = 600\n",
    "hysds_disk_usage = \"1GB\"\n",
    "hysds_submission_type = \"iteration\"\n",
    "hysds_label = \"Hello world notebook PGE\""
   ]
  },
  {
   "cell_type": "markdown",
   "metadata": {},
   "source": [
    "##### Work-around for problems w/ HySDS type handling"
   ]
  },
  {
   "cell_type": "code",
   "execution_count": null,
   "metadata": {},
   "outputs": [],
   "source": [
    "periapsis = float(periapsis)\n",
    "apoapsis = float(apoapsis)"
   ]
  },
  {
   "cell_type": "code",
   "execution_count": 2,
   "metadata": {},
   "outputs": [
    {
     "name": "stdout",
     "output_type": "stream",
     "text": [
      "Hello, jimmie\n",
      "Processing for orbits from 5020A to 5028D\n"
     ]
    }
   ],
   "source": [
    "print(\"Hello, {}\".format(name))\n",
    "print(\"Processing for orbits from {} to {}\".format(start_orbit_number, end_orbit_number))"
   ]
  },
  {
   "cell_type": "code",
   "execution_count": 3,
   "metadata": {},
   "outputs": [
    {
     "name": "stdout",
     "output_type": "stream",
     "text": [
      "apoapsis = 18699.23 of type <class 'float'>\n",
      "periapsis = 3668.75 of type <class 'float'>\n",
      "diff is 15030.48\n"
     ]
    }
   ],
   "source": [
    "print(\"apoapsis = {} of type {}\".format(apoapsis,type(apoapsis)))\n",
    "print(\"periapsis = {} of type {}\".format(periapsis,type(periapsis)))\n",
    "\n",
    "diff = apoapsis - periapsis\n",
    "print(\"diff is {}\".format(diff))"
   ]
  },
  {
   "cell_type": "code",
   "execution_count": 4,
   "metadata": {},
   "outputs": [
    {
     "name": "stdout",
     "output_type": "stream",
     "text": [
      "Goodbye, jimmie\n"
     ]
    }
   ],
   "source": [
    "print(\"Goodbye, {}\".format(name))"
   ]
  },
  {
   "cell_type": "code",
   "execution_count": null,
   "metadata": {},
   "outputs": [],
   "source": []
  }
 ],
 "metadata": {
  "kernelspec": {
   "display_name": "Python 3",
   "language": "python",
   "name": "python3"
  },
  "language_info": {
   "codemirror_mode": {
    "name": "ipython",
    "version": 3
   },
   "file_extension": ".py",
   "mimetype": "text/x-python",
   "name": "python",
   "nbconvert_exporter": "python",
   "pygments_lexer": "ipython3",
   "version": "3.8.2"
  }
 },
 "nbformat": 4,
 "nbformat_minor": 4
}
