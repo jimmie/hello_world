{
 "cells": [
  {
   "cell_type": "markdown",
   "metadata": {},
   "source": [
    "### PGE Driver\n",
    "This notebook is the driver by which the hello-world notebook will be processed in order to be available as a HySDS PGE. The notebook *hello_world_submit_job* is then used to submit it to HySDS for execution.\n"
   ]
  },
  {
   "cell_type": "markdown",
   "metadata": {},
   "source": [
    "#### 1. Set-up\n",
    "To start, we; enter the directory containing the notebook to be executed, ensure that we are in the proper branch, then execute notebook-pge-wrapper to generate the files necessary to build and run the *papermill*'ed notebook as a PGE."
   ]
  },
  {
   "cell_type": "code",
   "execution_count": 1,
   "metadata": {},
   "outputs": [
    {
     "name": "stdout",
     "output_type": "stream",
     "text": [
      "M\tdocker/job-spec.json.hello_world_notebook\n",
      "M\thello_world_pge_create.ipynb\n",
      "M\thello_world_submit_job.ipynb\n",
      "M\tnotebook_pges/.ipynb_checkpoints/hello_world_notebook-checkpoint.ipynb\n",
      "M\tnotebook_pges/hello_world_notebook.ipynb\n",
      "Your branch is up to date with 'origin/develop'.\n",
      ".ipynb_checkpoints is not a notebook, skipping...\n",
      "inspecting notebook: hello_world_notebook.ipynb\n",
      "generated docker/hysds-io.json.hello_world_notebook\n",
      "generated docker/job-spec.json.hello_world_notebook\n"
     ]
    },
    {
     "name": "stderr",
     "output_type": "stream",
     "text": [
      "Already on 'develop'\n",
      "2021-01-28 19:39:36 [INFO] Input Notebook:  notebook_pges/hello_world_notebook.ipynb\n",
      "2021-01-28 19:39:36 [INFO] Input Notebook:  notebook_pges/hello_world_notebook.ipynb\n",
      "2021-01-28 19:39:36 [INFO] Input Notebook:  notebook_pges/hello_world_notebook.ipynb\n"
     ]
    }
   ],
   "source": [
    "%%bash\n",
    "cd ~/hello_world\n",
    "git checkout develop\n",
    "notebook-pge-wrapper specs all"
   ]
  },
  {
   "cell_type": "markdown",
   "metadata": {},
   "source": [
    "### Important Note.\n",
    "A manual edit to the job-spec file is necessary. In the line:\n",
    "\n",
    ">`    \"command\": \"notebook-pge-wrapper execute /home/ops/hello_world/notebook_pges/hello_world_notebook.ipynb\",`\n",
    " \n",
    "Change *'ops'* to *'jovyan'*:\n",
    "\n",
    ">`    \"command\": \"notebook-pge-wrapper execute /home/jovyan/hello_world/notebook_pges/hello_world_notebook.ipynb\",`\n",
    " "
   ]
  },
  {
   "cell_type": "markdown",
   "metadata": {},
   "source": [
    "#### 2. Commit changes\n",
    "The notebook as a PGE is obtained by the system via a git checkout, in this case from github, so we need to make sure the remote repository is up to date. There may not be anything to commit, but we need to ensure consistency - there is no harm in trying to commit in the absence of changes."
   ]
  },
  {
   "cell_type": "code",
   "execution_count": null,
   "metadata": {},
   "outputs": [],
   "source": [
    "%%bash\n",
    "cd ~/hello_world\n",
    "git add -A\n",
    "git commit -m\"Results of notebook-pge-wrapper spec generation.\"\n",
    "git push"
   ]
  },
  {
   "cell_type": "markdown",
   "metadata": {},
   "source": [
    "#### 3. Initialize the api that will be used to specify the PGE job to HySDS"
   ]
  },
  {
   "cell_type": "code",
   "execution_count": null,
   "metadata": {},
   "outputs": [],
   "source": [
    "import os\n",
    "from pathlib import Path\n",
    "import otello\n",
    "if not os.path.exists(f\"{Path.home()}/.config/otello/config.yml\"):\n",
    "    otello.client.initialize()"
   ]
  },
  {
   "cell_type": "markdown",
   "metadata": {},
   "source": [
    "#### 4. Specify the repository and branch to the api\n",
    "This creates a handle to the job specification."
   ]
  },
  {
   "cell_type": "code",
   "execution_count": null,
   "metadata": {},
   "outputs": [],
   "source": [
    "repository = \"https://github.com/jimmie/hello_world.git\"\n",
    "branch = \"develop\"\n",
    "\n",
    "ci = otello.CI(repo=repository, branch=branch)"
   ]
  },
  {
   "cell_type": "markdown",
   "metadata": {},
   "source": [
    "#### 5. Ensure the most current version of the job is registered\n",
    "If the job exists previously, unregister it. Regardless, register the job to ensure the most current version. "
   ]
  },
  {
   "cell_type": "code",
   "execution_count": null,
   "metadata": {},
   "outputs": [],
   "source": [
    "try:\n",
    "    if (ci.check_job_exists()):\n",
    "        print(\"Job exists, unregistering\")\n",
    "        ci.unregister()\n",
    "except Exception as e:\n",
    "    print(\"Exception : {}, trying to register anyway\".format(e))\n",
    "\n",
    "ci.register()"
   ]
  },
  {
   "cell_type": "markdown",
   "metadata": {},
   "source": [
    "#### 6. Build the PGE"
   ]
  },
  {
   "cell_type": "code",
   "execution_count": null,
   "metadata": {},
   "outputs": [],
   "source": [
    "ci.submit_build()"
   ]
  },
  {
   "cell_type": "markdown",
   "metadata": {},
   "source": [
    "#### 7. Wait for the build to complete, then sample the result."
   ]
  },
  {
   "cell_type": "code",
   "execution_count": null,
   "metadata": {},
   "outputs": [],
   "source": [
    "import time\n",
    "move_on = False\n",
    "while not move_on:\n",
    "    try:\n",
    "        ci.get_build_status()\n",
    "        move_on = True\n",
    "    except Exception as e:\n",
    "        print(\"Waiting for build to start\")\n",
    "        time.sleep(10)\n",
    "    \n",
    "build_stat = ci.get_build_status()\n",
    "print(\"Build in progress.\", end=\"\")\n",
    "\n",
    "while (build_stat['building']):\n",
    "    time.sleep(10)\n",
    "    print(\".\", end=\"\", flush=True)\n",
    "    build_stat = ci.get_build_status()\n",
    "\n",
    "if (build_stat['result'] == 'FAILURE'):\n",
    "    print(\"\\nBuild Failed.\")\n",
    "else:\n",
    "    print(\"\\nBuild completed successfully\")"
   ]
  },
  {
   "cell_type": "markdown",
   "metadata": {},
   "source": [
    "#### 8. Get the final details on the build completion."
   ]
  },
  {
   "cell_type": "code",
   "execution_count": null,
   "metadata": {},
   "outputs": [],
   "source": [
    "build_stat = ci.get_build_status()\n",
    "print(build_stat)\n",
    "if (build_stat['result'] == 'FAILURE'):\n",
    "    print(\"Build Faild.\")\n",
    "else:\n",
    "    print(\"Build completed successfully\")"
   ]
  },
  {
   "cell_type": "code",
   "execution_count": null,
   "metadata": {},
   "outputs": [],
   "source": []
  }
 ],
 "metadata": {
  "kernelspec": {
   "display_name": "Python 3",
   "language": "python",
   "name": "python3"
  },
  "language_info": {
   "codemirror_mode": {
    "name": "ipython",
    "version": 3
   },
   "file_extension": ".py",
   "mimetype": "text/x-python",
   "name": "python",
   "nbconvert_exporter": "python",
   "pygments_lexer": "ipython3",
   "version": "3.8.2"
  }
 },
 "nbformat": 4,
 "nbformat_minor": 4
}
