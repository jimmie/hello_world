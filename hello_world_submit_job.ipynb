{
 "cells": [
  {
   "cell_type": "markdown",
   "metadata": {},
   "source": [
    "#### "
   ]
  },
  {
   "cell_type": "code",
   "execution_count": 1,
   "metadata": {},
   "outputs": [],
   "source": [
    "import os\n",
    "from pathlib import Path\n",
    "from pprint import pprint\n",
    "import otello\n",
    "\n",
    "if not os.path.exists(f\"{Path.home()}/.config/otello/config.yml\"):\n",
    "    otello.client.initialize()"
   ]
  },
  {
   "cell_type": "code",
   "execution_count": 2,
   "metadata": {},
   "outputs": [],
   "source": [
    "m = otello.mozart.Mozart()"
   ]
  },
  {
   "cell_type": "code",
   "execution_count": 3,
   "metadata": {},
   "outputs": [
    {
     "data": {
      "text/plain": [
       "{'queues': ['factotum-job_worker-large',\n",
       "  'factotum-job_worker-small',\n",
       "  'import_prov_es',\n",
       "  'nisar-job_worker-large',\n",
       "  'nisar-job_worker-small'],\n",
       " 'recommended': ['factotum-job_worker-small']}"
      ]
     },
     "execution_count": 3,
     "metadata": {},
     "output_type": "execute_result"
    }
   ],
   "source": [
    "job_type='job-hello_world_notebook:develop'\n",
    "hw_job_def = m.get_job_types()[job_type]\n",
    "hw_job_def.initialize()\n",
    "hw_job_def.get_queues()"
   ]
  },
  {
   "cell_type": "code",
   "execution_count": 4,
   "metadata": {},
   "outputs": [
    {
     "name": "stdout",
     "output_type": "stream",
     "text": [
      "Job Type: job-hello_world_notebook:develop\n",
      "Label: Hello world notebook PGE\n",
      "\n",
      "\n",
      "Tunable Parameters:\n",
      "\tname: name\n",
      "\n",
      "\tname: start_orbit_number\n",
      "\n",
      "\tname: end_orbit_number\n",
      "\n",
      "\tname: periapsis\n",
      "\n",
      "\tname: apoapsis\n",
      "\n",
      "\n",
      "Dataset Parameters:\n",
      "\n",
      "None\n"
     ]
    }
   ],
   "source": [
    "print(hw_job_def.describe())"
   ]
  },
  {
   "cell_type": "code",
   "execution_count": 5,
   "metadata": {},
   "outputs": [
    {
     "name": "stdout",
     "output_type": "stream",
     "text": [
      "{'apoapsis': '18699.23',\n",
      " 'end_orbit_number': '5028D',\n",
      " 'name': 'jimmie',\n",
      " 'periapsis': '3668.75',\n",
      " 'start_orbit_number': '5020A'}\n"
     ]
    }
   ],
   "source": [
    "pprint(hw_job_def.get_input_params())"
   ]
  },
  {
   "cell_type": "code",
   "execution_count": 6,
   "metadata": {},
   "outputs": [
    {
     "name": "stdout",
     "output_type": "stream",
     "text": [
      "NAME: name\n"
     ]
    },
    {
     "name": "stdin",
     "output_type": "stream",
     "text": [
      "Set value, skip to use default (jimmie):  Fred Flintstone\n"
     ]
    },
    {
     "name": "stdout",
     "output_type": "stream",
     "text": [
      "\n",
      "NAME: start_orbit_number\n"
     ]
    },
    {
     "name": "stdin",
     "output_type": "stream",
     "text": [
      "Set value, skip to use default (5020A):  5040D\n"
     ]
    },
    {
     "name": "stdout",
     "output_type": "stream",
     "text": [
      "\n",
      "NAME: end_orbit_number\n"
     ]
    },
    {
     "name": "stdin",
     "output_type": "stream",
     "text": [
      "Set value, skip to use default (5028D):  5042A\n"
     ]
    },
    {
     "name": "stdout",
     "output_type": "stream",
     "text": [
      "\n",
      "NAME: periapsis\n"
     ]
    },
    {
     "name": "stdin",
     "output_type": "stream",
     "text": [
      "Set value, skip to use default (3668.75):  5668.99\n"
     ]
    },
    {
     "name": "stdout",
     "output_type": "stream",
     "text": [
      "\n",
      "NAME: apoapsis\n"
     ]
    },
    {
     "name": "stdin",
     "output_type": "stream",
     "text": [
      "Set value, skip to use default (18699.23):  16988.21\n"
     ]
    },
    {
     "name": "stdout",
     "output_type": "stream",
     "text": [
      "\n",
      "{'apoapsis': '16988.21',\n",
      " 'end_orbit_number': '5042A',\n",
      " 'name': 'Fred Flintstone',\n",
      " 'periapsis': '5668.99',\n",
      " 'start_orbit_number': '5040D'}\n"
     ]
    }
   ],
   "source": [
    "hw_job_def.prompt_input_params()\n",
    "\n",
    "pprint(hw_job_def.get_input_params())"
   ]
  },
  {
   "cell_type": "code",
   "execution_count": 7,
   "metadata": {},
   "outputs": [],
   "source": [
    "job_run = hw_job_def.submit_job(tag=\"hello_from_jupyter\", queue=\"nisar-job_worker-small\")"
   ]
  },
  {
   "cell_type": "code",
   "execution_count": 8,
   "metadata": {},
   "outputs": [
    {
     "name": "stdout",
     "output_type": "stream",
     "text": [
      "b54384aa-8099-4278-8fc9-d5529da9e1f6: job-queued 2021-01-28T21:48:17.118391\n",
      "b54384aa-8099-4278-8fc9-d5529da9e1f6: job-queued 2021-01-28T21:48:47.165653\n",
      "b54384aa-8099-4278-8fc9-d5529da9e1f6: job-queued 2021-01-28T21:49:17.214218\n",
      "b54384aa-8099-4278-8fc9-d5529da9e1f6: job-queued 2021-01-28T21:49:47.260217\n",
      "b54384aa-8099-4278-8fc9-d5529da9e1f6: job-queued 2021-01-28T21:50:17.306141\n",
      "b54384aa-8099-4278-8fc9-d5529da9e1f6: job-queued 2021-01-28T21:50:47.351859\n",
      "b54384aa-8099-4278-8fc9-d5529da9e1f6: job-queued 2021-01-28T21:51:17.371068\n",
      "b54384aa-8099-4278-8fc9-d5529da9e1f6: job-queued 2021-01-28T21:51:47.416787\n",
      "b54384aa-8099-4278-8fc9-d5529da9e1f6: job-queued 2021-01-28T21:52:17.462254\n",
      "b54384aa-8099-4278-8fc9-d5529da9e1f6: job-started 2021-01-28T21:52:47.508705\n",
      "b54384aa-8099-4278-8fc9-d5529da9e1f6: job-started 2021-01-28T21:53:17.525574\n",
      "b54384aa-8099-4278-8fc9-d5529da9e1f6: job-started 2021-01-28T21:53:47.571543\n",
      "b54384aa-8099-4278-8fc9-d5529da9e1f6: job-started 2021-01-28T21:54:17.617085\n",
      "b54384aa-8099-4278-8fc9-d5529da9e1f6: job-started 2021-01-28T21:54:47.662854\n",
      "b54384aa-8099-4278-8fc9-d5529da9e1f6: job-started 2021-01-28T21:55:17.709338\n",
      "b54384aa-8099-4278-8fc9-d5529da9e1f6: job-started 2021-01-28T21:55:47.754783\n",
      "b54384aa-8099-4278-8fc9-d5529da9e1f6: job-started 2021-01-28T21:56:17.800950\n",
      "b54384aa-8099-4278-8fc9-d5529da9e1f6: job-started 2021-01-28T21:56:47.847743\n",
      "b54384aa-8099-4278-8fc9-d5529da9e1f6: job-started 2021-01-28T21:57:17.866018\n",
      "b54384aa-8099-4278-8fc9-d5529da9e1f6: job-started 2021-01-28T21:57:47.911909\n",
      "b54384aa-8099-4278-8fc9-d5529da9e1f6: job-completed 2021-01-28T21:58:17.957360\n"
     ]
    },
    {
     "data": {
      "text/plain": [
       "'job-completed'"
      ]
     },
     "execution_count": 8,
     "metadata": {},
     "output_type": "execute_result"
    }
   ],
   "source": [
    "job_run.wait_for_completion()"
   ]
  },
  {
   "cell_type": "code",
   "execution_count": null,
   "metadata": {},
   "outputs": [],
   "source": []
  }
 ],
 "metadata": {
  "kernelspec": {
   "display_name": "Python 3",
   "language": "python",
   "name": "python3"
  },
  "language_info": {
   "codemirror_mode": {
    "name": "ipython",
    "version": 3
   },
   "file_extension": ".py",
   "mimetype": "text/x-python",
   "name": "python",
   "nbconvert_exporter": "python",
   "pygments_lexer": "ipython3",
   "version": "3.8.2"
  }
 },
 "nbformat": 4,
 "nbformat_minor": 4
}
