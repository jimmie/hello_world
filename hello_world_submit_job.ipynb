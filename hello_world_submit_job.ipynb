{
 "cells": [
  {
   "cell_type": "code",
   "execution_count": 1,
   "metadata": {},
   "outputs": [],
   "source": [
    "import os\n",
    "from pathlib import Path\n",
    "from pprint import pprint\n",
    "import otello\n",
    "\n",
    "if not os.path.exists(f\"{Path.home()}/.config/otello/config.yml\"):\n",
    "    otello.client.initialize()"
   ]
  },
  {
   "cell_type": "code",
   "execution_count": 2,
   "metadata": {},
   "outputs": [],
   "source": [
    "m = otello.mozart.Mozart()"
   ]
  },
  {
   "cell_type": "code",
   "execution_count": 3,
   "metadata": {},
   "outputs": [
    {
     "data": {
      "text/plain": [
       "{'queues': ['factotum-job_worker-large',\n",
       "  'factotum-job_worker-small',\n",
       "  'import_prov_es',\n",
       "  'nisar-job_worker-large',\n",
       "  'nisar-job_worker-small'],\n",
       " 'recommended': ['factotum-job_worker-small']}"
      ]
     },
     "execution_count": 3,
     "metadata": {},
     "output_type": "execute_result"
    }
   ],
   "source": [
    "job_type='job-hello_world_notebook:develop'\n",
    "hw_job_def = m.get_job_types()[job_type]\n",
    "hw_job_def.initialize()\n",
    "hw_job_def.get_queues()"
   ]
  },
  {
   "cell_type": "code",
   "execution_count": 4,
   "metadata": {},
   "outputs": [
    {
     "name": "stdout",
     "output_type": "stream",
     "text": [
      "Job Type: job-hello_world_notebook:develop\n",
      "Label: Hello world notebook PGE\n",
      "\n",
      "\n",
      "Tunable Parameters:\n",
      "\tname: name\n",
      "\n",
      "\tname: start_orbit_number\n",
      "\n",
      "\tname: end_orbit_number\n",
      "\n",
      "\tname: periapsis\n",
      "\n",
      "\tname: apoapsis\n",
      "\n",
      "\n",
      "Dataset Parameters:\n",
      "\n",
      "None\n"
     ]
    }
   ],
   "source": [
    "print(hw_job_def.describe())"
   ]
  },
  {
   "cell_type": "code",
   "execution_count": 5,
   "metadata": {},
   "outputs": [
    {
     "name": "stdout",
     "output_type": "stream",
     "text": [
      "{'apoapsis': '18699.23',\n",
      " 'end_orbit_number': '5028D',\n",
      " 'name': 'jimmie',\n",
      " 'periapsis': '3668.75',\n",
      " 'start_orbit_number': '5020A'}\n"
     ]
    }
   ],
   "source": [
    "pprint(hw_job_def.get_input_params())"
   ]
  },
  {
   "cell_type": "code",
   "execution_count": 9,
   "metadata": {},
   "outputs": [
    {
     "name": "stdout",
     "output_type": "stream",
     "text": [
      "NAME: name\n"
     ]
    },
    {
     "name": "stdin",
     "output_type": "stream",
     "text": [
      "Set value, skip to use default (jimmie):  Fred Flintstone\n"
     ]
    },
    {
     "name": "stdout",
     "output_type": "stream",
     "text": [
      "\n",
      "NAME: start_orbit_number\n"
     ]
    },
    {
     "name": "stdin",
     "output_type": "stream",
     "text": [
      "Set value, skip to use default (5020A):  \n"
     ]
    },
    {
     "name": "stdout",
     "output_type": "stream",
     "text": [
      "\n",
      "NAME: end_orbit_number\n"
     ]
    },
    {
     "name": "stdin",
     "output_type": "stream",
     "text": [
      "Set value, skip to use default (5028D):  \n"
     ]
    },
    {
     "name": "stdout",
     "output_type": "stream",
     "text": [
      "\n",
      "NAME: periapsis\n"
     ]
    },
    {
     "name": "stdin",
     "output_type": "stream",
     "text": [
      "Set value, skip to use default (3668.75):  1445.62\n"
     ]
    },
    {
     "name": "stdout",
     "output_type": "stream",
     "text": [
      "\n",
      "NAME: apoapsis\n"
     ]
    },
    {
     "name": "stdin",
     "output_type": "stream",
     "text": [
      "Set value, skip to use default (18699.23):  35688.9\n"
     ]
    },
    {
     "name": "stdout",
     "output_type": "stream",
     "text": [
      "\n",
      "{'apoapsis': '35688.9',\n",
      " 'end_orbit_number': '5028D',\n",
      " 'name': 'Fred Flintstone',\n",
      " 'periapsis': '1445.62',\n",
      " 'start_orbit_number': '5020A'}\n"
     ]
    }
   ],
   "source": [
    "hw_job_def.prompt_input_params()\n",
    "\n",
    "pprint(hw_job_def.get_input_params())"
   ]
  },
  {
   "cell_type": "code",
   "execution_count": 7,
   "metadata": {},
   "outputs": [],
   "source": [
    "job_run = hw_job_def.submit_job(tag=\"hello_from_jupyter\", queue=\"nisar-job_worker-small\")"
   ]
  },
  {
   "cell_type": "code",
   "execution_count": 8,
   "metadata": {},
   "outputs": [
    {
     "name": "stdout",
     "output_type": "stream",
     "text": [
      "d4984f83-47f8-4008-888f-d2f31f82f5a6: job-queued 2021-01-28T18:33:52.311602\n",
      "d4984f83-47f8-4008-888f-d2f31f82f5a6: job-queued 2021-01-28T18:34:22.357758\n",
      "d4984f83-47f8-4008-888f-d2f31f82f5a6: job-queued 2021-01-28T18:34:52.404799\n",
      "d4984f83-47f8-4008-888f-d2f31f82f5a6: job-queued 2021-01-28T18:35:22.451026\n",
      "d4984f83-47f8-4008-888f-d2f31f82f5a6: job-queued 2021-01-28T18:35:52.488967\n",
      "d4984f83-47f8-4008-888f-d2f31f82f5a6: job-queued 2021-01-28T18:36:22.536243\n",
      "d4984f83-47f8-4008-888f-d2f31f82f5a6: job-queued 2021-01-28T18:36:52.584317\n",
      "d4984f83-47f8-4008-888f-d2f31f82f5a6: job-queued 2021-01-28T18:37:22.631391\n",
      "d4984f83-47f8-4008-888f-d2f31f82f5a6: job-started 2021-01-28T18:37:52.660810\n",
      "d4984f83-47f8-4008-888f-d2f31f82f5a6: job-started 2021-01-28T18:38:22.707485\n",
      "d4984f83-47f8-4008-888f-d2f31f82f5a6: job-started 2021-01-28T18:38:52.753933\n",
      "d4984f83-47f8-4008-888f-d2f31f82f5a6: job-started 2021-01-28T18:39:22.800641\n",
      "d4984f83-47f8-4008-888f-d2f31f82f5a6: job-started 2021-01-28T18:39:52.848589\n",
      "d4984f83-47f8-4008-888f-d2f31f82f5a6: job-started 2021-01-28T18:40:22.895649\n",
      "d4984f83-47f8-4008-888f-d2f31f82f5a6: job-started 2021-01-28T18:40:52.942431\n",
      "d4984f83-47f8-4008-888f-d2f31f82f5a6: job-started 2021-01-28T18:41:22.970318\n",
      "d4984f83-47f8-4008-888f-d2f31f82f5a6: job-started 2021-01-28T18:41:53.016248\n",
      "d4984f83-47f8-4008-888f-d2f31f82f5a6: job-started 2021-01-28T18:42:23.063953\n",
      "d4984f83-47f8-4008-888f-d2f31f82f5a6: job-started 2021-01-28T18:42:53.109873\n",
      "d4984f83-47f8-4008-888f-d2f31f82f5a6: job-started 2021-01-28T18:43:23.156566\n",
      "d4984f83-47f8-4008-888f-d2f31f82f5a6: job-failed 2021-01-28T18:43:53.205575\n"
     ]
    },
    {
     "data": {
      "text/plain": [
       "'job-failed'"
      ]
     },
     "execution_count": 8,
     "metadata": {},
     "output_type": "execute_result"
    }
   ],
   "source": [
    "job_run.wait_for_completion()"
   ]
  },
  {
   "cell_type": "code",
   "execution_count": null,
   "metadata": {},
   "outputs": [],
   "source": [
    "import time\n",
    "from datetime import datetime\n",
    "\n",
    "# set global parameters for job submission\n",
    "job_name = \"job-hello_world_notebook:develop\"\n",
    "queue = \"nisar-job_worker-large\"\n",
    "tags = \"hello_from_jupyter\"\n",
    "priority = 1\n",
    "\n",
    "# set template job_params (hysds-io params); None values need to be populated\n",
    "params = {\n",
    "    \"name\": \"Fred Flintstone\",\n",
    "    \"start_orbit_number\" : \"5100A\",\n",
    "    \"end_orbit_number\": \"5150D\",\n",
    "    \"periapsis\": 1157.99,\n",
    "    \"apoapsis\": 877.75\n",
    "    }\n",
    "\n",
    "# submit job\n",
    "j = m.submit_job(job_name, queue, tags, priority, params)\n",
    "\n",
    "while True:\n",
    "    try:\n",
    "        status = j.get_status()\n",
    "        print(f\"status: {status} {datetime.utcnow().isoformat('T')}\")\n",
    "        if status not in ('job-queued', 'job-started'): break\n",
    "    except Exception as e:\n",
    "        pass\n",
    "        # print(e)\n",
    "    time.sleep(30)\n",
    "print(j.get_info())"
   ]
  },
  {
   "cell_type": "code",
   "execution_count": null,
   "metadata": {},
   "outputs": [],
   "source": []
  }
 ],
 "metadata": {
  "kernelspec": {
   "display_name": "Python 3",
   "language": "python",
   "name": "python3"
  },
  "language_info": {
   "codemirror_mode": {
    "name": "ipython",
    "version": 3
   },
   "file_extension": ".py",
   "mimetype": "text/x-python",
   "name": "python",
   "nbconvert_exporter": "python",
   "pygments_lexer": "ipython3",
   "version": "3.8.2"
  }
 },
 "nbformat": 4,
 "nbformat_minor": 4
}
