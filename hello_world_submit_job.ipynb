{
 "cells": [
  {
   "cell_type": "markdown",
   "metadata": {},
   "source": [
    "#### "
   ]
  },
  {
   "cell_type": "code",
   "execution_count": 17,
   "metadata": {},
   "outputs": [],
   "source": [
    "import os\n",
    "from pathlib import Path\n",
    "from pprint import pprint\n",
    "import otello\n",
    "\n",
    "if not os.path.exists(f\"{Path.home()}/.config/otello/config.yml\"):\n",
    "    otello.client.initialize()"
   ]
  },
  {
   "cell_type": "code",
   "execution_count": 18,
   "metadata": {},
   "outputs": [],
   "source": [
    "m = otello.mozart.Mozart()"
   ]
  },
  {
   "cell_type": "code",
   "execution_count": 19,
   "metadata": {},
   "outputs": [
    {
     "data": {
      "text/plain": [
       "{'queues': {'queues': ['factotum-job_worker-large',\n",
       "   'factotum-job_worker-small',\n",
       "   'import_prov_es',\n",
       "   'nisar-job_worker-large',\n",
       "   'nisar-job_worker-small'],\n",
       "  'recommended': ['factotum-job_worker-small']},\n",
       " 'default': 'factotum-job_worker-small'}"
      ]
     },
     "execution_count": 19,
     "metadata": {},
     "output_type": "execute_result"
    }
   ],
   "source": [
    "job_type='job-hello_world_notebook:develop'\n",
    "hw_job_def = m.get_job_types()[job_type]\n",
    "hw_job_def.initialize()\n",
    "hw_job_def.get_queues()"
   ]
  },
  {
   "cell_type": "code",
   "execution_count": 20,
   "metadata": {},
   "outputs": [
    {
     "name": "stdout",
     "output_type": "stream",
     "text": [
      "Job Type: job-hello_world_notebook:develop\n",
      "Label: Hello world notebook PGE\n",
      "\n",
      "\n",
      "Tunable Parameters:\n",
      "\tname: name\n",
      "\tdefault: jimmie\n",
      "\n",
      "\tname: start_orbit_number\n",
      "\tdefault: 5020A\n",
      "\n",
      "\tname: end_orbit_number\n",
      "\tdefault: 5028D\n",
      "\n",
      "\tname: periapsis\n",
      "\tdefault: 3668.75\n",
      "\n",
      "\tname: apoapsis\n",
      "\tdefault: 18699.23\n",
      "\n",
      "\n",
      "Dataset Parameters:\n",
      "\n",
      "None\n"
     ]
    }
   ],
   "source": [
    "print(hw_job_def.describe())"
   ]
  },
  {
   "cell_type": "code",
   "execution_count": 21,
   "metadata": {},
   "outputs": [
    {
     "name": "stdout",
     "output_type": "stream",
     "text": [
      "{'apoapsis': 18699.23,\n",
      " 'end_orbit_number': '5028D',\n",
      " 'name': 'jimmie',\n",
      " 'periapsis': 3668.75,\n",
      " 'start_orbit_number': '5020A'}\n"
     ]
    }
   ],
   "source": [
    "pprint(hw_job_def.get_input_params())"
   ]
  },
  {
   "cell_type": "code",
   "execution_count": 14,
   "metadata": {},
   "outputs": [
    {
     "name": "stdout",
     "output_type": "stream",
     "text": [
      "NAME: name\n"
     ]
    },
    {
     "name": "stdin",
     "output_type": "stream",
     "text": [
      "Set value, skip to use default (jimmie):  Betty Rubble\n"
     ]
    },
    {
     "name": "stdout",
     "output_type": "stream",
     "text": [
      "\n",
      "NAME: start_orbit_number\n"
     ]
    },
    {
     "name": "stdin",
     "output_type": "stream",
     "text": [
      "Set value, skip to use default (5020A):  \n"
     ]
    },
    {
     "name": "stdout",
     "output_type": "stream",
     "text": [
      "\n",
      "NAME: end_orbit_number\n"
     ]
    },
    {
     "name": "stdin",
     "output_type": "stream",
     "text": [
      "Set value, skip to use default (5028D):  5041D\n"
     ]
    },
    {
     "name": "stdout",
     "output_type": "stream",
     "text": [
      "\n",
      "NAME: periapsis\n"
     ]
    },
    {
     "name": "stdin",
     "output_type": "stream",
     "text": [
      "Set value, skip to use default (3668.75):  5222.22\n"
     ]
    },
    {
     "name": "stdout",
     "output_type": "stream",
     "text": [
      "\n",
      "NAME: apoapsis\n"
     ]
    },
    {
     "name": "stdin",
     "output_type": "stream",
     "text": [
      "Set value, skip to use default (18699.23):  9777.77\n"
     ]
    },
    {
     "name": "stdout",
     "output_type": "stream",
     "text": [
      "\n",
      "{'apoapsis': '9777.77',\n",
      " 'end_orbit_number': '5041D',\n",
      " 'name': 'Betty Rubble',\n",
      " 'periapsis': '5222.22',\n",
      " 'start_orbit_number': '5020A'}\n"
     ]
    }
   ],
   "source": [
    "hw_job_def.prompt_input_params()\n",
    "\n",
    "pprint(hw_job_def.get_input_params())"
   ]
  },
  {
   "cell_type": "code",
   "execution_count": 27,
   "metadata": {},
   "outputs": [
    {
     "name": "stdout",
     "output_type": "stream",
     "text": [
      "{'apoapsis': 6333.33,\n",
      " 'end_orbit_number': '5041D',\n",
      " 'name': 'Betty Rubble',\n",
      " 'periapsis': 8888.88,\n",
      " 'start_orbit_number': '5020A'}\n"
     ]
    }
   ],
   "source": [
    "# hw_job_def.prompt_input_params()\n",
    "# test to see that parameters are passed to the job w/ proper types if we override the defaults\n",
    "input_parms = { 'apoapsis' : 6333.33, 'periapsis' : 8888.88, 'name' : 'Betty Rubble', 'start_orbit_number' : '5020A', 'end_orbit_number' : '5041D'}\n",
    "hw_job_def.set_input_params(input_parms)\n",
    "pprint(hw_job_def.get_input_params())"
   ]
  },
  {
   "cell_type": "code",
   "execution_count": 28,
   "metadata": {},
   "outputs": [],
   "source": [
    "job_run = hw_job_def.submit_job(tag=\"hello_from_jupyter\", queue=\"nisar-job_worker-small\")"
   ]
  },
  {
   "cell_type": "code",
   "execution_count": 29,
   "metadata": {},
   "outputs": [
    {
     "name": "stdout",
     "output_type": "stream",
     "text": [
      "20fccbc2-0e11-4c9e-92b3-46272ce51011: job-queued 2021-02-03T19:07:24.854187\n",
      "20fccbc2-0e11-4c9e-92b3-46272ce51011: job-queued 2021-02-03T19:07:54.900630\n",
      "20fccbc2-0e11-4c9e-92b3-46272ce51011: job-queued 2021-02-03T19:08:24.947699\n",
      "20fccbc2-0e11-4c9e-92b3-46272ce51011: job-queued 2021-02-03T19:08:54.984132\n",
      "20fccbc2-0e11-4c9e-92b3-46272ce51011: job-queued 2021-02-03T19:09:25.029841\n",
      "20fccbc2-0e11-4c9e-92b3-46272ce51011: job-queued 2021-02-03T19:09:55.076216\n",
      "20fccbc2-0e11-4c9e-92b3-46272ce51011: job-queued 2021-02-03T19:10:25.123656\n",
      "20fccbc2-0e11-4c9e-92b3-46272ce51011: job-started 2021-02-03T19:10:55.171321\n",
      "20fccbc2-0e11-4c9e-92b3-46272ce51011: job-started 2021-02-03T19:11:25.218899\n",
      "20fccbc2-0e11-4c9e-92b3-46272ce51011: job-started 2021-02-03T19:11:55.236680\n",
      "20fccbc2-0e11-4c9e-92b3-46272ce51011: job-started 2021-02-03T19:12:25.272461\n",
      "20fccbc2-0e11-4c9e-92b3-46272ce51011: job-started 2021-02-03T19:12:55.314335\n",
      "20fccbc2-0e11-4c9e-92b3-46272ce51011: job-started 2021-02-03T19:13:25.339921\n",
      "20fccbc2-0e11-4c9e-92b3-46272ce51011: job-started 2021-02-03T19:13:55.386687\n",
      "20fccbc2-0e11-4c9e-92b3-46272ce51011: job-started 2021-02-03T19:14:25.432646\n",
      "20fccbc2-0e11-4c9e-92b3-46272ce51011: job-started 2021-02-03T19:14:55.452593\n",
      "20fccbc2-0e11-4c9e-92b3-46272ce51011: job-started 2021-02-03T19:15:25.500426\n",
      "20fccbc2-0e11-4c9e-92b3-46272ce51011: job-started 2021-02-03T19:15:55.539860\n",
      "20fccbc2-0e11-4c9e-92b3-46272ce51011: job-started 2021-02-03T19:16:25.587736\n",
      "20fccbc2-0e11-4c9e-92b3-46272ce51011: job-started 2021-02-03T19:16:55.634411\n",
      "20fccbc2-0e11-4c9e-92b3-46272ce51011: job-completed 2021-02-03T19:17:25.657302\n"
     ]
    },
    {
     "data": {
      "text/plain": [
       "'job-completed'"
      ]
     },
     "execution_count": 29,
     "metadata": {},
     "output_type": "execute_result"
    }
   ],
   "source": [
    "job_run.wait_for_completion()"
   ]
  },
  {
   "cell_type": "code",
   "execution_count": null,
   "metadata": {},
   "outputs": [],
   "source": []
  }
 ],
 "metadata": {
  "kernelspec": {
   "display_name": "Python 3",
   "language": "python",
   "name": "python3"
  },
  "language_info": {
   "codemirror_mode": {
    "name": "ipython",
    "version": 3
   },
   "file_extension": ".py",
   "mimetype": "text/x-python",
   "name": "python",
   "nbconvert_exporter": "python",
   "pygments_lexer": "ipython3",
   "version": "3.8.2"
  }
 },
 "nbformat": 4,
 "nbformat_minor": 4
}
