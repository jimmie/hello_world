{
 "cells": [
  {
   "cell_type": "code",
   "execution_count": 13,
   "metadata": {},
   "outputs": [],
   "source": [
    "import os\n",
    "from pathlib import Path\n",
    "import otello\n",
    "\n",
    "if not os.path.exists(f\"{Path.home()}/.config/otello/config.yml\"):\n",
    "    otello.client.initialize()"
   ]
  },
  {
   "cell_type": "code",
   "execution_count": 14,
   "metadata": {},
   "outputs": [],
   "source": [
    "m = otello.mozart.Mozart()"
   ]
  },
  {
   "cell_type": "code",
   "execution_count": 17,
   "metadata": {},
   "outputs": [
    {
     "data": {
      "text/plain": [
       "[{'hysds_io': 'hysds-io-lw-tosca-aws_get:v1.0.5',\n",
       "  'job_spec': 'job-lw-tosca-aws_get:v1.0.5',\n",
       "  'version': 'v1.0.5',\n",
       "  'label': 'AWS get script'},\n",
       " {'hysds_io': 'hysds-io-hello_world_notebook:develop',\n",
       "  'job_spec': 'job-hello_world_notebook:develop',\n",
       "  'version': 'develop',\n",
       "  'label': 'Hello world notebook PGE'},\n",
       " {'hysds_io': 'hysds-io-lw-tosca-notify-by-email:v1.0.5',\n",
       "  'job_spec': 'job-lw-tosca-notify-by-email:v1.0.5',\n",
       "  'version': 'v1.0.5',\n",
       "  'label': 'Notify by email'},\n",
       " {'hysds_io': 'hysds-io-lw-tosca-purge:v1.0.5',\n",
       "  'job_spec': 'job-lw-tosca-purge:v1.0.5',\n",
       "  'version': 'v1.0.5',\n",
       "  'label': 'Purge datasets'},\n",
       " {'hysds_io': 'hysds-io-lw-tosca-wget-glob:v1.0.5',\n",
       "  'job_spec': 'job-lw-tosca-wget-glob:v1.0.5',\n",
       "  'version': 'v1.0.5',\n",
       "  'label': 'Wget Script Glob Select via E-mail'},\n",
       " {'hysds_io': 'hysds-io-lw-tosca-wget-email:v1.0.5',\n",
       "  'job_spec': 'job-lw-tosca-wget-email:v1.0.5',\n",
       "  'version': 'v1.0.5',\n",
       "  'label': 'Wget Script via E-mail'},\n",
       " {'hysds_io': 'hysds-io-lw-tosca-wget-product:v1.0.5',\n",
       "  'job_spec': 'job-lw-tosca-wget-product:v1.0.5',\n",
       "  'version': 'v1.0.5',\n",
       "  'label': 'Wget Script via Product'},\n",
       " {'hysds_io': 'hysds-io-lw-tosca-wget:v1.0.5',\n",
       "  'job_spec': 'job-lw-tosca-wget:v1.0.5',\n",
       "  'version': 'v1.0.5',\n",
       "  'label': 'Wget script'},\n",
       " {'hysds_io': 'hysds-io-lightweight-echo:v1.0.5',\n",
       "  'job_spec': 'job-lightweight-echo:v1.0.5',\n",
       "  'version': 'v1.0.5',\n",
       "  'label': 'echo'}]"
      ]
     },
     "execution_count": 17,
     "metadata": {},
     "output_type": "execute_result"
    }
   ],
   "source": [
    "m.get_job_types()"
   ]
  },
  {
   "cell_type": "code",
   "execution_count": 18,
   "metadata": {},
   "outputs": [
    {
     "name": "stdout",
     "output_type": "stream",
     "text": [
      "status: job-queued 2021-01-25T23:59:39.986256\n",
      "status: job-queued 2021-01-26T00:00:10.035556\n",
      "status: job-queued 2021-01-26T00:00:40.086094\n",
      "status: job-queued 2021-01-26T00:01:10.135856\n",
      "status: job-queued 2021-01-26T00:01:40.186740\n",
      "status: job-queued 2021-01-26T00:02:10.248112\n",
      "status: job-queued 2021-01-26T00:02:40.312117\n",
      "status: job-started 2021-01-26T00:03:10.365519\n",
      "status: job-started 2021-01-26T00:03:40.431336\n",
      "status: job-started 2021-01-26T00:04:10.492094\n",
      "status: job-started 2021-01-26T00:04:40.556144\n",
      "status: job-started 2021-01-26T00:05:10.572026\n",
      "status: job-started 2021-01-26T00:05:40.617143\n",
      "status: job-started 2021-01-26T00:06:10.662304\n",
      "status: job-started 2021-01-26T00:06:40.707605\n",
      "status: job-started 2021-01-26T00:07:10.737448\n",
      "status: job-started 2021-01-26T00:07:40.782442\n",
      "status: job-started 2021-01-26T00:08:10.827324\n",
      "status: job-completed 2021-01-26T00:08:40.872450\n",
      "{'payload_hash': '66a627123d76e59ef5726055ff257a9a', '@version': '1', '@timestamp': '2021-01-26T00:08:30.113Z', 'job_id': 'job-hello_world_notebook__develop-20210125T235909.900915Z', 'dedup': False, 'uuid': '58fd3d63-590a-4c91-a9e8-08b4b5f0a342', 'job': {'delivery_info': {'exchange': '', 'routing_key': 'nisar-job_worker-large', 'priority': 1, 'redelivered': False}, 'container_mappings': {'/home/ops/verdi/etc/datasets.json': 'datasets.json', '$HOME/.aws': '/home/ops/.aws', '/home/ops/verdi/etc/celeryconfig.py': 'celeryconfig.py'}, 'runtime_options': {}, 'task_id': '58fd3d63-590a-4c91-a9e8-08b4b5f0a342', 'job_id': 'job-hello_world_notebook__develop-20210125T235909.900915Z', 'tag': 'hello_from_jupyter', 'container_image_id': 'sha256:39e4a6398a48b58c63049bf7e858af57b4b471c17082ed00bd9abba78a2cab77', 'container_image_url': 's3://s3-us-west-2.amazonaws.com/nisar-dev-cc-fwd-jdyoung/container-jimmie_hello_world:develop.tar.gz', 'localize_urls': [], 'container_image_name': 'container-jimmie_hello_world:develop', 'context': {'periapsis': 1157.99, 'container_mappings': {'$HOME/.aws': '/home/ops/.aws'}, 'runtime_options': {}, 'tag': 'hello_from_jupyter', '_prov': {'wasGeneratedBy': 'task_id:58fd3d63-590a-4c91-a9e8-08b4b5f0a342'}, 'job_specification': {'container': 'container-jimmie_hello_world:develop', 'disk_usage': '1GB', 'soft_time_limit': 600, 'imported_worker_files': {'$HOME/.aws': '/home/ops/.aws'}, 'params': [{'name': 'name', 'destination': 'context', 'value': 'Fred Flintstone'}, {'name': 'start_orbit_number', 'destination': 'context', 'value': '5100A'}, {'name': 'end_orbit_number', 'destination': 'context', 'value': '5150D'}, {'name': 'periapsis', 'destination': 'context', 'value': 1157.99}, {'name': 'apoapsis', 'destination': 'context', 'value': 877.75}], 'command': 'notebook-pge-wrapper execute /home/jovyan/hello_world/notebook_pges/hello_world_notebook.ipynb', 'job-version': 'develop', 'id': 'job-hello_world_notebook:develop', 'resource': 'jobspec', 'required_queues': ['factotum-job_worker-small'], 'time_limit': 600}, 'container_specification': {'id': 'container-jimmie_hello_world:develop', 'version': 'develop', 'url': 's3://s3-us-west-2.amazonaws.com/nisar-dev-cc-fwd-jdyoung/container-jimmie_hello_world:develop.tar.gz', 'digest': 'sha256:39e4a6398a48b58c63049bf7e858af57b4b471c17082ed00bd9abba78a2cab77'}, '_command': 'notebook-pge-wrapper execute /home/jovyan/hello_world/notebook_pges/hello_world_notebook.ipynb', 'localize_urls': [], 'start_orbit_number': '5100A', '_disk_usage': '1GB', 'container_image_name': 'container-jimmie_hello_world:develop', 'container_image_url': 's3://s3-us-west-2.amazonaws.com/nisar-dev-cc-fwd-jdyoung/container-jimmie_hello_world:develop.tar.gz', 'container_image_id': 'sha256:39e4a6398a48b58c63049bf7e858af57b4b471c17082ed00bd9abba78a2cab77', 'name': 'Fred Flintstone', 'job_priority': 1, 'apoapsis': 877.75, 'end_orbit_number': '5150D'}, 'params': {'periapsis': 1157.99, 'tag': 'hello_from_jupyter', 'job_specification': {'container': 'container-jimmie_hello_world:develop', 'disk_usage': '1GB', 'soft_time_limit': 600, 'imported_worker_files': {'$HOME/.aws': '/home/ops/.aws'}, 'params': [{'name': 'name', 'destination': 'context', 'value': 'Fred Flintstone'}, {'name': 'start_orbit_number', 'destination': 'context', 'value': '5100A'}, {'name': 'end_orbit_number', 'destination': 'context', 'value': '5150D'}, {'name': 'periapsis', 'destination': 'context', 'value': 1157.99}, {'name': 'apoapsis', 'destination': 'context', 'value': 877.75}], 'command': 'notebook-pge-wrapper execute /home/jovyan/hello_world/notebook_pges/hello_world_notebook.ipynb', 'job-version': 'develop', 'id': 'job-hello_world_notebook:develop', 'resource': 'jobspec', 'required_queues': ['factotum-job_worker-small'], 'time_limit': 600}, 'container_specification': {'id': 'container-jimmie_hello_world:develop', 'version': 'develop', 'url': 's3://s3-us-west-2.amazonaws.com/nisar-dev-cc-fwd-jdyoung/container-jimmie_hello_world:develop.tar.gz', 'digest': 'sha256:39e4a6398a48b58c63049bf7e858af57b4b471c17082ed00bd9abba78a2cab77'}, '_command': 'notebook-pge-wrapper execute /home/jovyan/hello_world/notebook_pges/hello_world_notebook.ipynb', 'localize_urls': [], 'start_orbit_number': '5100A', '_disk_usage': '1GB', 'name': 'Fred Flintstone', 'apoapsis': 877.75, 'end_orbit_number': '5150D'}, 'command': {'path': 'notebook-pge-wrapper', 'options': [], 'arguments': ['execute', '/home/jovyan/hello_world/notebook_pges/hello_world_notebook.ipynb'], 'env': []}, 'name': 'job-hello_world_notebook__develop-20210125T235909.900915Z', 'type': 'job-hello_world_notebook:develop', 'priority': 1, 'job_info': {'payload_hash': '66a627123d76e59ef5726055ff257a9a', 'pid': 232, 'dedup': False, 'time_start': '2021-01-26T00:02:31.362107Z', 'cmd_duration': 29.040162, 'time_queued': '2021-01-25T23:59:09.900940Z', 'job_queue': 'nisar-job_worker-large', 'job_payload': {'payload_task_id': '3b37f50e-e72e-4db8-bb87-37b0f27f6835', 'job_type': 'job:job-hello_world_notebook:develop'}, 'metrics': {'inputs_localized': [], 'products_staged': [], 'job_dir_size': 22243, 'usage_stats': []}, 'id': 'job-hello_world_notebook__develop-20210125T235909.900915Z', 'cmd_end': '2021-01-26T00:08:30.102159Z', 'stderr': '', 'time_limit': 900, 'context_file': '/data/work/jobs/2021/01/26/00/02/job-hello_world_notebook__develop-20210125T235909.900915Z/_context.json', 'cmd_start': '2021-01-26T00:08:01.061997Z', 'time_end': '2021-01-26T00:08:30.110962Z', 'job_dir': '/data/work/jobs/2021/01/26/00/02/job-hello_world_notebook__develop-20210125T235909.900915Z', 'soft_time_limit': 600, 'execute_node': '100.64.122.199', 'facts': {'swapfree': '0.00 MB', 'hardwaremodel': 'x86_64', 'osfamily': 'RedHat', 'memoryfree': '14.18 GB', 'hysds_execute_node': '100.64.122.199', 'operatingsystem': 'CentOS', 'swapsize': '0.00 MB', 'operatingsystemrelease': '7.9.2009', 'memorysize': '15.27 GB', 'ec2_instance_id': 'i-0ade756ef2927a0e7', 'fqdn': '100.64.122.199', 'ipaddress_eth0': '100.64.122.199', 'hysds_public_ip': '100.64.122.199', 'ipaddress': '172.18.0.2', 'ec2_instance_type': 'r5a.large', 'architecture': 'x86_64', 'uptime': '0:02 hours', 'hostname': 'verdi', 'is_virtual': True, 'ec2_placement_availability_zone': 'us-west-2a', 'domain': 'jpl.nasa.gov', 'physicalprocessorcount': 1, 'processorcount': 2, 'virtual': 'docker'}, 'job_url': 'http://100.64.122.199:8085/jobs/2021/01/26/00/02/job-hello_world_notebook__develop-20210125T235909.900915Z', 'stdout': '', 'status': 0, 'duration': 358.748855, 'datasets_cfg_file': '/home/ops/verdi/etc/datasets.json', 'public_ip': '100.64.122.199'}}, 'context': {'periapsis': 1157.99, 'container_mappings': {'$HOME/.aws': '/home/ops/.aws'}, 'runtime_options': {}, 'tag': 'hello_from_jupyter', '_prov': {'wasGeneratedBy': 'task_id:58fd3d63-590a-4c91-a9e8-08b4b5f0a342'}, 'job_specification': {'container': 'container-jimmie_hello_world:develop', 'disk_usage': '1GB', 'soft_time_limit': 600, 'imported_worker_files': {'$HOME/.aws': '/home/ops/.aws'}, 'params': [{'name': 'name', 'destination': 'context', 'value': 'Fred Flintstone'}, {'name': 'start_orbit_number', 'destination': 'context', 'value': '5100A'}, {'name': 'end_orbit_number', 'destination': 'context', 'value': '5150D'}, {'name': 'periapsis', 'destination': 'context', 'value': 1157.99}, {'name': 'apoapsis', 'destination': 'context', 'value': 877.75}], 'command': 'notebook-pge-wrapper execute /home/jovyan/hello_world/notebook_pges/hello_world_notebook.ipynb', 'job-version': 'develop', 'id': 'job-hello_world_notebook:develop', 'resource': 'jobspec', 'required_queues': ['factotum-job_worker-small'], 'time_limit': 600}, 'container_specification': {'id': 'container-jimmie_hello_world:develop', 'version': 'develop', 'url': 's3://s3-us-west-2.amazonaws.com/nisar-dev-cc-fwd-jdyoung/container-jimmie_hello_world:develop.tar.gz', 'digest': 'sha256:39e4a6398a48b58c63049bf7e858af57b4b471c17082ed00bd9abba78a2cab77'}, '_command': 'notebook-pge-wrapper execute /home/jovyan/hello_world/notebook_pges/hello_world_notebook.ipynb', 'localize_urls': [], 'start_orbit_number': '5100A', '_disk_usage': '1GB', 'container_image_name': 'container-jimmie_hello_world:develop', 'container_image_url': 's3://s3-us-west-2.amazonaws.com/nisar-dev-cc-fwd-jdyoung/container-jimmie_hello_world:develop.tar.gz', 'container_image_id': 'sha256:39e4a6398a48b58c63049bf7e858af57b4b471c17082ed00bd9abba78a2cab77', 'name': 'Fred Flintstone', 'job_priority': 1, 'apoapsis': 877.75, 'end_orbit_number': '5150D'}, 'payload_id': '3b37f50e-e72e-4db8-bb87-37b0f27f6835', 'tags': ['hello_from_jupyter'], 'status': 'job-completed', 'celery_hostname': 'celery@nisar-job_worker-large.100.64.122.199', 'type': 'job-hello_world_notebook:develop', 'resource': 'job'}\n"
     ]
    }
   ],
   "source": [
    "import time\n",
    "from datetime import datetime\n",
    "\n",
    "# set global parameters for job submission\n",
    "job_name = \"job-hello_world_notebook:develop\"\n",
    "queue = \"nisar-job_worker-large\"\n",
    "tags = \"hello_from_jupyter\"\n",
    "priority = 1\n",
    "\n",
    "# set template job_params (hysds-io params); None values need to be populated\n",
    "params = {\n",
    "    \"name\": \"Fred Flintstone\",\n",
    "    \"start_orbit_number\" : \"5100A\",\n",
    "    \"end_orbit_number\": \"5150D\",\n",
    "    \"periapsis\": 1157.99,\n",
    "    \"apoapsis\": 877.75\n",
    "    }\n",
    "\n",
    "# submit job\n",
    "j = m.submit_job(job_name, queue, tags, priority, params)\n",
    "\n",
    "while True:\n",
    "    try:\n",
    "        status = j.get_status()\n",
    "        print(f\"status: {status} {datetime.utcnow().isoformat('T')}\")\n",
    "        if status not in ('job-queued', 'job-started'): break\n",
    "    except Exception as e:\n",
    "        pass\n",
    "        # print(e)\n",
    "    time.sleep(30)\n",
    "print(j.get_info())"
   ]
  },
  {
   "cell_type": "code",
   "execution_count": null,
   "metadata": {},
   "outputs": [],
   "source": []
  }
 ],
 "metadata": {
  "kernelspec": {
   "display_name": "Python 3",
   "language": "python",
   "name": "python3"
  },
  "language_info": {
   "codemirror_mode": {
    "name": "ipython",
    "version": 3
   },
   "file_extension": ".py",
   "mimetype": "text/x-python",
   "name": "python",
   "nbconvert_exporter": "python",
   "pygments_lexer": "ipython3",
   "version": "3.8.2"
  }
 },
 "nbformat": 4,
 "nbformat_minor": 4
}
