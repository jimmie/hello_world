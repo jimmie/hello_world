{
 "cells": [
  {
   "cell_type": "markdown",
   "metadata": {},
   "source": [
    "#### "
   ]
  },
  {
   "cell_type": "code",
   "execution_count": 1,
   "metadata": {},
   "outputs": [],
   "source": [
    "import os\n",
    "from pathlib import Path\n",
    "from pprint import pprint\n",
    "import otello\n",
    "\n",
    "if not os.path.exists(f\"{Path.home()}/.config/otello/config.yml\"):\n",
    "    otello.client.initialize()"
   ]
  },
  {
   "cell_type": "code",
   "execution_count": 2,
   "metadata": {},
   "outputs": [],
   "source": [
    "m = otello.mozart.Mozart()"
   ]
  },
  {
   "cell_type": "code",
   "execution_count": 3,
   "metadata": {},
   "outputs": [
    {
     "data": {
      "text/plain": [
       "{'queues': {'queues': ['factotum-job_worker-large',\n",
       "   'factotum-job_worker-small',\n",
       "   'import_prov_es',\n",
       "   'nisar-job_worker-large',\n",
       "   'nisar-job_worker-small'],\n",
       "  'recommended': ['factotum-job_worker-small']},\n",
       " 'default': 'factotum-job_worker-small'}"
      ]
     },
     "execution_count": 3,
     "metadata": {},
     "output_type": "execute_result"
    }
   ],
   "source": [
    "job_type='job-hello_world_notebook:develop'\n",
    "hw_job_def = m.get_job_types()[job_type]\n",
    "hw_job_def.initialize()\n",
    "hw_job_def.get_queues()"
   ]
  },
  {
   "cell_type": "code",
   "execution_count": 4,
   "metadata": {},
   "outputs": [
    {
     "name": "stdout",
     "output_type": "stream",
     "text": [
      "Job Type: job-hello_world_notebook:develop\n",
      "Label: Hello world notebook PGE\n",
      "\n",
      "\n",
      "Tunable Parameters:\n",
      "\tname: name\n",
      "\tdefault: jimmie\n",
      "\n",
      "\tname: start_orbit_number\n",
      "\tdefault: 5020A\n",
      "\n",
      "\tname: end_orbit_number\n",
      "\tdefault: 5028D\n",
      "\n",
      "\tname: periapsis\n",
      "\tdefault: 3668.75\n",
      "\n",
      "\tname: apoapsis\n",
      "\tdefault: 18699.23\n",
      "\n",
      "\n",
      "Dataset Parameters:\n",
      "\n",
      "None\n"
     ]
    }
   ],
   "source": [
    "print(hw_job_def.describe())"
   ]
  },
  {
   "cell_type": "code",
   "execution_count": 5,
   "metadata": {},
   "outputs": [
    {
     "name": "stdout",
     "output_type": "stream",
     "text": [
      "{'apoapsis': 18699.23,\n",
      " 'end_orbit_number': '5028D',\n",
      " 'name': 'jimmie',\n",
      " 'periapsis': 3668.75,\n",
      " 'start_orbit_number': '5020A'}\n"
     ]
    }
   ],
   "source": [
    "pprint(hw_job_def.get_input_params())"
   ]
  },
  {
   "cell_type": "code",
   "execution_count": 6,
   "metadata": {},
   "outputs": [
    {
     "name": "stdout",
     "output_type": "stream",
     "text": [
      "NAME: name\n"
     ]
    },
    {
     "name": "stdin",
     "output_type": "stream",
     "text": [
      "Set value, skip to use default (jimmie):  Wilma Flintstone\n"
     ]
    },
    {
     "name": "stdout",
     "output_type": "stream",
     "text": [
      "\n",
      "NAME: start_orbit_number\n"
     ]
    },
    {
     "name": "stdin",
     "output_type": "stream",
     "text": [
      "Set value, skip to use default (5020A):  \n"
     ]
    },
    {
     "name": "stdout",
     "output_type": "stream",
     "text": [
      "\n",
      "NAME: end_orbit_number\n"
     ]
    },
    {
     "name": "stdin",
     "output_type": "stream",
     "text": [
      "Set value, skip to use default (5028D):  5041D\n"
     ]
    },
    {
     "name": "stdout",
     "output_type": "stream",
     "text": [
      "\n",
      "NAME: periapsis\n"
     ]
    },
    {
     "name": "stdin",
     "output_type": "stream",
     "text": [
      "Set value, skip to use default (3668.75):  9852.25\n"
     ]
    },
    {
     "name": "stdout",
     "output_type": "stream",
     "text": [
      "\n",
      "NAME: apoapsis\n"
     ]
    },
    {
     "name": "stdin",
     "output_type": "stream",
     "text": [
      "Set value, skip to use default (18699.23):  16541.98\n"
     ]
    },
    {
     "name": "stdout",
     "output_type": "stream",
     "text": [
      "\n",
      "{'apoapsis': '16541.98',\n",
      " 'end_orbit_number': '5041D',\n",
      " 'name': 'Wilma Flintstone',\n",
      " 'periapsis': '9852.25',\n",
      " 'start_orbit_number': '5020A'}\n"
     ]
    }
   ],
   "source": [
    "hw_job_def.prompt_input_params()\n",
    "\n",
    "pprint(hw_job_def.get_input_params())"
   ]
  },
  {
   "cell_type": "code",
   "execution_count": 7,
   "metadata": {},
   "outputs": [],
   "source": [
    "job_run = hw_job_def.submit_job(tag=\"hello_from_jupyter\", queue=\"nisar-job_worker-small\")"
   ]
  },
  {
   "cell_type": "code",
   "execution_count": 8,
   "metadata": {},
   "outputs": [
    {
     "name": "stdout",
     "output_type": "stream",
     "text": [
      "70f27ac2-7314-4540-be8a-b42b0fff394d: job-queued 2021-02-03T16:57:18.821771\n",
      "70f27ac2-7314-4540-be8a-b42b0fff394d: job-queued 2021-02-03T16:57:48.868627\n",
      "70f27ac2-7314-4540-be8a-b42b0fff394d: job-queued 2021-02-03T16:58:18.917443\n",
      "70f27ac2-7314-4540-be8a-b42b0fff394d: job-queued 2021-02-03T16:58:48.936363\n",
      "70f27ac2-7314-4540-be8a-b42b0fff394d: job-queued 2021-02-03T16:59:18.984497\n",
      "70f27ac2-7314-4540-be8a-b42b0fff394d: job-queued 2021-02-03T16:59:49.008769\n",
      "70f27ac2-7314-4540-be8a-b42b0fff394d: job-queued 2021-02-03T17:00:19.055910\n",
      "70f27ac2-7314-4540-be8a-b42b0fff394d: job-queued 2021-02-03T17:00:49.103277\n",
      "70f27ac2-7314-4540-be8a-b42b0fff394d: job-started 2021-02-03T17:01:19.151907\n",
      "70f27ac2-7314-4540-be8a-b42b0fff394d: job-started 2021-02-03T17:01:49.199678\n",
      "70f27ac2-7314-4540-be8a-b42b0fff394d: job-started 2021-02-03T17:02:19.248748\n",
      "70f27ac2-7314-4540-be8a-b42b0fff394d: job-started 2021-02-03T17:02:49.293975\n",
      "70f27ac2-7314-4540-be8a-b42b0fff394d: job-started 2021-02-03T17:03:19.312842\n",
      "70f27ac2-7314-4540-be8a-b42b0fff394d: job-started 2021-02-03T17:03:49.337262\n",
      "70f27ac2-7314-4540-be8a-b42b0fff394d: job-started 2021-02-03T17:04:19.384883\n",
      "70f27ac2-7314-4540-be8a-b42b0fff394d: job-started 2021-02-03T17:04:49.434152\n",
      "70f27ac2-7314-4540-be8a-b42b0fff394d: job-started 2021-02-03T17:05:19.481959\n",
      "70f27ac2-7314-4540-be8a-b42b0fff394d: job-started 2021-02-03T17:05:49.529621\n",
      "70f27ac2-7314-4540-be8a-b42b0fff394d: job-started 2021-02-03T17:06:19.555284\n",
      "70f27ac2-7314-4540-be8a-b42b0fff394d: job-started 2021-02-03T17:06:49.601902\n",
      "70f27ac2-7314-4540-be8a-b42b0fff394d: job-started 2021-02-03T17:07:19.651031\n",
      "70f27ac2-7314-4540-be8a-b42b0fff394d: job-failed 2021-02-03T17:07:49.700508\n"
     ]
    },
    {
     "data": {
      "text/plain": [
       "'job-failed'"
      ]
     },
     "execution_count": 8,
     "metadata": {},
     "output_type": "execute_result"
    }
   ],
   "source": [
    "job_run.wait_for_completion()"
   ]
  },
  {
   "cell_type": "code",
   "execution_count": null,
   "metadata": {},
   "outputs": [],
   "source": []
  }
 ],
 "metadata": {
  "kernelspec": {
   "display_name": "Python 3",
   "language": "python",
   "name": "python3"
  },
  "language_info": {
   "codemirror_mode": {
    "name": "ipython",
    "version": 3
   },
   "file_extension": ".py",
   "mimetype": "text/x-python",
   "name": "python",
   "nbconvert_exporter": "python",
   "pygments_lexer": "ipython3",
   "version": "3.8.2"
  }
 },
 "nbformat": 4,
 "nbformat_minor": 4
}
