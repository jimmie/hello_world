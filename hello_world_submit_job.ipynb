{
 "cells": [
  {
   "cell_type": "code",
   "execution_count": 1,
   "metadata": {},
   "outputs": [],
   "source": [
    "import os\n",
    "from pathlib import Path\n",
    "from pprint import pprint\n",
    "import otello\n",
    "\n",
    "if not os.path.exists(f\"{Path.home()}/.config/otello/config.yml\"):\n",
    "    otello.client.initialize()"
   ]
  },
  {
   "cell_type": "code",
   "execution_count": 2,
   "metadata": {},
   "outputs": [],
   "source": [
    "m = otello.mozart.Mozart()"
   ]
  },
  {
   "cell_type": "code",
   "execution_count": 3,
   "metadata": {},
   "outputs": [
    {
     "data": {
      "text/plain": [
       "{'queues': ['factotum-job_worker-large',\n",
       "  'factotum-job_worker-small',\n",
       "  'import_prov_es',\n",
       "  'nisar-job_worker-large',\n",
       "  'nisar-job_worker-small'],\n",
       " 'recommended': ['factotum-job_worker-small']}"
      ]
     },
     "execution_count": 3,
     "metadata": {},
     "output_type": "execute_result"
    }
   ],
   "source": [
    "job_type='job-hello_world_notebook:develop'\n",
    "hw_job_def = m.get_job_types()[job_type]\n",
    "hw_job_def.initialize()\n",
    "hw_job_def.get_queues()"
   ]
  },
  {
   "cell_type": "code",
   "execution_count": 4,
   "metadata": {},
   "outputs": [
    {
     "name": "stdout",
     "output_type": "stream",
     "text": [
      "Job Type: job-hello_world_notebook:develop\n",
      "Label: Hello world notebook PGE\n",
      "\n",
      "\n",
      "Tunable Parameters:\n",
      "\tname: name\n",
      "\n",
      "\tname: start_orbit_number\n",
      "\n",
      "\tname: end_orbit_number\n",
      "\n",
      "\tname: periapsis\n",
      "\n",
      "\tname: apoapsis\n",
      "\n",
      "\n",
      "Dataset Parameters:\n",
      "\n",
      "None\n"
     ]
    }
   ],
   "source": [
    "print(hw_job_def.describe())"
   ]
  },
  {
   "cell_type": "code",
   "execution_count": 5,
   "metadata": {},
   "outputs": [
    {
     "name": "stdout",
     "output_type": "stream",
     "text": [
      "{'apoapsis': '18699.23',\n",
      " 'end_orbit_number': '5028D',\n",
      " 'name': 'jimmie',\n",
      " 'periapsis': '3668.75',\n",
      " 'start_orbit_number': '5020A'}\n"
     ]
    }
   ],
   "source": [
    "pprint(hw_job_def.get_input_params())"
   ]
  },
  {
   "cell_type": "code",
   "execution_count": 6,
   "metadata": {},
   "outputs": [
    {
     "name": "stdout",
     "output_type": "stream",
     "text": [
      "NAME: name\n"
     ]
    },
    {
     "name": "stdin",
     "output_type": "stream",
     "text": [
      "Set value, skip to use default (jimmie):  Barney Rubble\n"
     ]
    },
    {
     "name": "stdout",
     "output_type": "stream",
     "text": [
      "\n",
      "NAME: start_orbit_number\n"
     ]
    },
    {
     "name": "stdin",
     "output_type": "stream",
     "text": [
      "Set value, skip to use default (5020A):  \n"
     ]
    },
    {
     "name": "stdout",
     "output_type": "stream",
     "text": [
      "\n",
      "NAME: end_orbit_number\n"
     ]
    },
    {
     "name": "stdin",
     "output_type": "stream",
     "text": [
      "Set value, skip to use default (5028D):  \n"
     ]
    },
    {
     "name": "stdout",
     "output_type": "stream",
     "text": [
      "\n",
      "NAME: periapsis\n"
     ]
    },
    {
     "name": "stdin",
     "output_type": "stream",
     "text": [
      "Set value, skip to use default (3668.75):  \n"
     ]
    },
    {
     "name": "stdout",
     "output_type": "stream",
     "text": [
      "\n",
      "NAME: apoapsis\n"
     ]
    },
    {
     "name": "stdin",
     "output_type": "stream",
     "text": [
      "Set value, skip to use default (18699.23):  \n"
     ]
    },
    {
     "name": "stdout",
     "output_type": "stream",
     "text": [
      "\n",
      "{'apoapsis': '18699.23',\n",
      " 'end_orbit_number': '5028D',\n",
      " 'name': 'Barney Rubble',\n",
      " 'periapsis': '3668.75',\n",
      " 'start_orbit_number': '5020A'}\n"
     ]
    }
   ],
   "source": [
    "hw_job_def.prompt_input_params()\n",
    "\n",
    "pprint(hw_job_def.get_input_params())"
   ]
  },
  {
   "cell_type": "code",
   "execution_count": 7,
   "metadata": {},
   "outputs": [],
   "source": [
    "job_run = hw_job_def.submit_job(tag=\"hello_from_jupyter\", queue=\"nisar-job_worker-small\")"
   ]
  },
  {
   "cell_type": "code",
   "execution_count": null,
   "metadata": {},
   "outputs": [
    {
     "name": "stdout",
     "output_type": "stream",
     "text": [
      "19620a50-7748-4488-be95-e98d77f304ba: job-queued 2021-01-28T21:20:22.164317\n",
      "19620a50-7748-4488-be95-e98d77f304ba: job-queued 2021-01-28T21:20:52.211388\n",
      "19620a50-7748-4488-be95-e98d77f304ba: job-queued 2021-01-28T21:21:22.258040\n",
      "19620a50-7748-4488-be95-e98d77f304ba: job-queued 2021-01-28T21:21:52.304118\n",
      "19620a50-7748-4488-be95-e98d77f304ba: job-queued 2021-01-28T21:22:22.334778\n",
      "19620a50-7748-4488-be95-e98d77f304ba: job-queued 2021-01-28T21:22:52.379777\n",
      "19620a50-7748-4488-be95-e98d77f304ba: job-queued 2021-01-28T21:23:22.425651\n",
      "19620a50-7748-4488-be95-e98d77f304ba: job-queued 2021-01-28T21:23:52.472394\n",
      "19620a50-7748-4488-be95-e98d77f304ba: job-started 2021-01-28T21:24:22.518332\n",
      "19620a50-7748-4488-be95-e98d77f304ba: job-started 2021-01-28T21:24:52.564868\n",
      "19620a50-7748-4488-be95-e98d77f304ba: job-started 2021-01-28T21:25:22.612252\n",
      "19620a50-7748-4488-be95-e98d77f304ba: job-started 2021-01-28T21:25:52.631137\n",
      "19620a50-7748-4488-be95-e98d77f304ba: job-started 2021-01-28T21:26:22.673923\n",
      "19620a50-7748-4488-be95-e98d77f304ba: job-started 2021-01-28T21:26:52.719807\n",
      "19620a50-7748-4488-be95-e98d77f304ba: job-started 2021-01-28T21:27:22.766617\n",
      "19620a50-7748-4488-be95-e98d77f304ba: job-started 2021-01-28T21:27:52.812393\n"
     ]
    }
   ],
   "source": [
    "job_run.wait_for_completion()"
   ]
  },
  {
   "cell_type": "code",
   "execution_count": null,
   "metadata": {},
   "outputs": [],
   "source": [
    "import time\n",
    "from datetime import datetime\n",
    "\n",
    "# set global parameters for job submission\n",
    "job_name = \"job-hello_world_notebook:develop\"\n",
    "queue = \"nisar-job_worker-large\"\n",
    "tags = \"hello_from_jupyter\"\n",
    "priority = 1\n",
    "\n",
    "# set template job_params (hysds-io params); None values need to be populated\n",
    "params = {\n",
    "    \"name\": \"Fred Flintstone\",\n",
    "    \"start_orbit_number\" : \"5100A\",\n",
    "    \"end_orbit_number\": \"5150D\",\n",
    "    \"periapsis\": 1157.99,\n",
    "    \"apoapsis\": 877.75\n",
    "    }\n",
    "\n",
    "# submit job\n",
    "j = m.submit_job(job_name, queue, tags, priority, params)\n",
    "\n",
    "while True:\n",
    "    try:\n",
    "        status = j.get_status()\n",
    "        print(f\"status: {status} {datetime.utcnow().isoformat('T')}\")\n",
    "        if status not in ('job-queued', 'job-started'): break\n",
    "    except Exception as e:\n",
    "        pass\n",
    "        # print(e)\n",
    "    time.sleep(30)\n",
    "print(j.get_info())"
   ]
  },
  {
   "cell_type": "code",
   "execution_count": null,
   "metadata": {},
   "outputs": [],
   "source": []
  }
 ],
 "metadata": {
  "kernelspec": {
   "display_name": "Python 3",
   "language": "python",
   "name": "python3"
  },
  "language_info": {
   "codemirror_mode": {
    "name": "ipython",
    "version": 3
   },
   "file_extension": ".py",
   "mimetype": "text/x-python",
   "name": "python",
   "nbconvert_exporter": "python",
   "pygments_lexer": "ipython3",
   "version": "3.8.2"
  }
 },
 "nbformat": 4,
 "nbformat_minor": 4
}
